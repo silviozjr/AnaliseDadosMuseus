{
  "nbformat": 4,
  "nbformat_minor": 0,
  "metadata": {
    "colab": {
      "name": "Notebook-analise-museus.ipynb",
      "provenance": [],
      "collapsed_sections": []
    },
    "kernelspec": {
      "name": "python3",
      "display_name": "Python 3"
    },
    "language_info": {
      "name": "python"
    }
  },
  "cells": [
    {
      "cell_type": "code",
      "metadata": {
        "id": "q-dWP-A5XzL0"
      },
      "source": [
        "import pandas as pd"
      ],
      "execution_count": 1,
      "outputs": []
    },
    {
      "cell_type": "code",
      "metadata": {
        "colab": {
          "base_uri": "https://localhost:8080/",
          "height": 628
        },
        "id": "8fdUbFY87E9T",
        "outputId": "c6d9edf5-e082-43f5-f4ea-aa33af1bf43d"
      },
      "source": [
        "file_location = 'https://raw.githubusercontent.com/silviozjr/AnaliseDadosMuseus/main/museums.csv'\n",
        "df = pd.read_csv(file_location)\n",
        "df.head()"
      ],
      "execution_count": 19,
      "outputs": [
        {
          "output_type": "stream",
          "name": "stderr",
          "text": [
            "/usr/local/lib/python3.7/dist-packages/IPython/core/interactiveshell.py:2718: DtypeWarning: Columns (9,14,21) have mixed types.Specify dtype option on import or set low_memory=False.\n",
            "  interactivity=interactivity, compiler=compiler, result=result)\n"
          ]
        },
        {
          "output_type": "execute_result",
          "data": {
            "text/html": [
              "<div>\n",
              "<style scoped>\n",
              "    .dataframe tbody tr th:only-of-type {\n",
              "        vertical-align: middle;\n",
              "    }\n",
              "\n",
              "    .dataframe tbody tr th {\n",
              "        vertical-align: top;\n",
              "    }\n",
              "\n",
              "    .dataframe thead th {\n",
              "        text-align: right;\n",
              "    }\n",
              "</style>\n",
              "<table border=\"1\" class=\"dataframe\">\n",
              "  <thead>\n",
              "    <tr style=\"text-align: right;\">\n",
              "      <th></th>\n",
              "      <th>Museum ID</th>\n",
              "      <th>Museum Name</th>\n",
              "      <th>Legal Name</th>\n",
              "      <th>Alternate Name</th>\n",
              "      <th>Museum Type</th>\n",
              "      <th>Institution Name</th>\n",
              "      <th>Street Address (Administrative Location)</th>\n",
              "      <th>City (Administrative Location)</th>\n",
              "      <th>State (Administrative Location)</th>\n",
              "      <th>Zip Code (Administrative Location)</th>\n",
              "      <th>Street Address (Physical Location)</th>\n",
              "      <th>City (Physical Location)</th>\n",
              "      <th>State (Physical Location)</th>\n",
              "      <th>Zip Code (Physical Location)</th>\n",
              "      <th>Phone Number</th>\n",
              "      <th>Latitude</th>\n",
              "      <th>Longitude</th>\n",
              "      <th>Locale Code (NCES)</th>\n",
              "      <th>County Code (FIPS)</th>\n",
              "      <th>State Code (FIPS)</th>\n",
              "      <th>Region Code (AAM)</th>\n",
              "      <th>Employer ID Number</th>\n",
              "      <th>Tax Period</th>\n",
              "      <th>Income</th>\n",
              "      <th>Revenue</th>\n",
              "    </tr>\n",
              "  </thead>\n",
              "  <tbody>\n",
              "    <tr>\n",
              "      <th>0</th>\n",
              "      <td>8400200098</td>\n",
              "      <td>ALASKA AVIATION HERITAGE MUSEUM</td>\n",
              "      <td>ALASKA AVIATION HERITAGE MUSEUM</td>\n",
              "      <td>NaN</td>\n",
              "      <td>HISTORY MUSEUM</td>\n",
              "      <td>NaN</td>\n",
              "      <td>4721 AIRCRAFT DR</td>\n",
              "      <td>ANCHORAGE</td>\n",
              "      <td>AK</td>\n",
              "      <td>99502</td>\n",
              "      <td>NaN</td>\n",
              "      <td>NaN</td>\n",
              "      <td>NaN</td>\n",
              "      <td>NaN</td>\n",
              "      <td>9072485325</td>\n",
              "      <td>61.17925</td>\n",
              "      <td>-149.97254</td>\n",
              "      <td>1.0</td>\n",
              "      <td>20.0</td>\n",
              "      <td>2.0</td>\n",
              "      <td>6</td>\n",
              "      <td>920071852</td>\n",
              "      <td>201312.0</td>\n",
              "      <td>602912.0</td>\n",
              "      <td>550236.0</td>\n",
              "    </tr>\n",
              "    <tr>\n",
              "      <th>1</th>\n",
              "      <td>8400200117</td>\n",
              "      <td>ALASKA BOTANICAL GARDEN</td>\n",
              "      <td>ALASKA BOTANICAL GARDEN INC</td>\n",
              "      <td>NaN</td>\n",
              "      <td>ARBORETUM, BOTANICAL GARDEN, OR NATURE CENTER</td>\n",
              "      <td>NaN</td>\n",
              "      <td>4601 CAMPBELL AIRSTRIP RD</td>\n",
              "      <td>ANCHORAGE</td>\n",
              "      <td>AK</td>\n",
              "      <td>99507</td>\n",
              "      <td>NaN</td>\n",
              "      <td>NaN</td>\n",
              "      <td>NaN</td>\n",
              "      <td>NaN</td>\n",
              "      <td>9077703692</td>\n",
              "      <td>61.16890</td>\n",
              "      <td>-149.76708</td>\n",
              "      <td>4.0</td>\n",
              "      <td>20.0</td>\n",
              "      <td>2.0</td>\n",
              "      <td>6</td>\n",
              "      <td>920115504</td>\n",
              "      <td>201312.0</td>\n",
              "      <td>1379576.0</td>\n",
              "      <td>1323742.0</td>\n",
              "    </tr>\n",
              "    <tr>\n",
              "      <th>2</th>\n",
              "      <td>8400200153</td>\n",
              "      <td>ALASKA CHALLENGER CENTER FOR SPACE SCIENCE TEC...</td>\n",
              "      <td>ALASKA CHALLENGER CENTER FOR SPACE SCIENCE TEC...</td>\n",
              "      <td>NaN</td>\n",
              "      <td>SCIENCE &amp; TECHNOLOGY MUSEUM OR PLANETARIUM</td>\n",
              "      <td>NaN</td>\n",
              "      <td>9711 KENAI SPUR HWY</td>\n",
              "      <td>KENAI</td>\n",
              "      <td>AK</td>\n",
              "      <td>99611</td>\n",
              "      <td>NaN</td>\n",
              "      <td>NaN</td>\n",
              "      <td>NaN</td>\n",
              "      <td>NaN</td>\n",
              "      <td>9072832000</td>\n",
              "      <td>60.56149</td>\n",
              "      <td>-151.21598</td>\n",
              "      <td>3.0</td>\n",
              "      <td>122.0</td>\n",
              "      <td>2.0</td>\n",
              "      <td>6</td>\n",
              "      <td>921761906</td>\n",
              "      <td>201312.0</td>\n",
              "      <td>740030.0</td>\n",
              "      <td>729080.0</td>\n",
              "    </tr>\n",
              "    <tr>\n",
              "      <th>3</th>\n",
              "      <td>8400200143</td>\n",
              "      <td>ALASKA EDUCATORS HISTORICAL SOCIETY</td>\n",
              "      <td>ALASKA EDUCATORS HISTORICAL SOCIETY</td>\n",
              "      <td>NaN</td>\n",
              "      <td>HISTORIC PRESERVATION</td>\n",
              "      <td>NaN</td>\n",
              "      <td>214 BIRCH STREET</td>\n",
              "      <td>KENAI</td>\n",
              "      <td>AK</td>\n",
              "      <td>99611</td>\n",
              "      <td>NaN</td>\n",
              "      <td>NaN</td>\n",
              "      <td>NaN</td>\n",
              "      <td>NaN</td>\n",
              "      <td>2142472478</td>\n",
              "      <td>60.56280</td>\n",
              "      <td>-151.26597</td>\n",
              "      <td>3.0</td>\n",
              "      <td>122.0</td>\n",
              "      <td>2.0</td>\n",
              "      <td>6</td>\n",
              "      <td>920165178</td>\n",
              "      <td>201412.0</td>\n",
              "      <td>0.0</td>\n",
              "      <td>0.0</td>\n",
              "    </tr>\n",
              "    <tr>\n",
              "      <th>4</th>\n",
              "      <td>8400200027</td>\n",
              "      <td>ALASKA HERITAGE MUSEUM</td>\n",
              "      <td>ALASKA AVIATION HERITAGE MUSEUM</td>\n",
              "      <td>NaN</td>\n",
              "      <td>HISTORY MUSEUM</td>\n",
              "      <td>NaN</td>\n",
              "      <td>301 W NORTHERN LIGHTS BLVD</td>\n",
              "      <td>ANCHORAGE</td>\n",
              "      <td>AK</td>\n",
              "      <td>99503</td>\n",
              "      <td>NaN</td>\n",
              "      <td>NaN</td>\n",
              "      <td>NaN</td>\n",
              "      <td>NaN</td>\n",
              "      <td>9072652834</td>\n",
              "      <td>61.17925</td>\n",
              "      <td>-149.97254</td>\n",
              "      <td>1.0</td>\n",
              "      <td>20.0</td>\n",
              "      <td>2.0</td>\n",
              "      <td>6</td>\n",
              "      <td>920071852</td>\n",
              "      <td>201312.0</td>\n",
              "      <td>602912.0</td>\n",
              "      <td>550236.0</td>\n",
              "    </tr>\n",
              "  </tbody>\n",
              "</table>\n",
              "</div>"
            ],
            "text/plain": [
              "    Museum ID  ...    Revenue\n",
              "0  8400200098  ...   550236.0\n",
              "1  8400200117  ...  1323742.0\n",
              "2  8400200153  ...   729080.0\n",
              "3  8400200143  ...        0.0\n",
              "4  8400200027  ...   550236.0\n",
              "\n",
              "[5 rows x 25 columns]"
            ]
          },
          "metadata": {},
          "execution_count": 19
        }
      ]
    },
    {
      "cell_type": "code",
      "metadata": {
        "colab": {
          "base_uri": "https://localhost:8080/"
        },
        "id": "atPYUGxBzBQB",
        "outputId": "50a3c213-247a-44fd-de78-0ea0112c1a77"
      },
      "source": [
        "#Verificando quantidade de linhas e colunas do dataset\n",
        "df.shape"
      ],
      "execution_count": 10,
      "outputs": [
        {
          "output_type": "execute_result",
          "data": {
            "text/plain": [
              "(33072, 25)"
            ]
          },
          "metadata": {},
          "execution_count": 10
        }
      ]
    },
    {
      "cell_type": "code",
      "metadata": {
        "colab": {
          "base_uri": "https://localhost:8080/",
          "height": 293
        },
        "id": "N-fOM9F73ozc",
        "outputId": "c46d474c-8854-42d0-a3f3-85f4a14ca0a9"
      },
      "source": [
        "#Extraindo apenas as colunas que serão utilizadas\n",
        "df = df[ ['Museum Name',\n",
        "          'Museum Type',\n",
        "          'City (Administrative Location)',\n",
        "          'State (Administrative Location)',\n",
        "          'City (Physical Location)',\n",
        "          'State (Physical Location)',\n",
        "          'Revenue'] ]\n",
        "df.head()"
      ],
      "execution_count": 20,
      "outputs": [
        {
          "output_type": "execute_result",
          "data": {
            "text/html": [
              "<div>\n",
              "<style scoped>\n",
              "    .dataframe tbody tr th:only-of-type {\n",
              "        vertical-align: middle;\n",
              "    }\n",
              "\n",
              "    .dataframe tbody tr th {\n",
              "        vertical-align: top;\n",
              "    }\n",
              "\n",
              "    .dataframe thead th {\n",
              "        text-align: right;\n",
              "    }\n",
              "</style>\n",
              "<table border=\"1\" class=\"dataframe\">\n",
              "  <thead>\n",
              "    <tr style=\"text-align: right;\">\n",
              "      <th></th>\n",
              "      <th>Museum Name</th>\n",
              "      <th>Museum Type</th>\n",
              "      <th>City (Administrative Location)</th>\n",
              "      <th>State (Administrative Location)</th>\n",
              "      <th>City (Physical Location)</th>\n",
              "      <th>State (Physical Location)</th>\n",
              "      <th>Revenue</th>\n",
              "    </tr>\n",
              "  </thead>\n",
              "  <tbody>\n",
              "    <tr>\n",
              "      <th>0</th>\n",
              "      <td>ALASKA AVIATION HERITAGE MUSEUM</td>\n",
              "      <td>HISTORY MUSEUM</td>\n",
              "      <td>ANCHORAGE</td>\n",
              "      <td>AK</td>\n",
              "      <td>NaN</td>\n",
              "      <td>NaN</td>\n",
              "      <td>550236.0</td>\n",
              "    </tr>\n",
              "    <tr>\n",
              "      <th>1</th>\n",
              "      <td>ALASKA BOTANICAL GARDEN</td>\n",
              "      <td>ARBORETUM, BOTANICAL GARDEN, OR NATURE CENTER</td>\n",
              "      <td>ANCHORAGE</td>\n",
              "      <td>AK</td>\n",
              "      <td>NaN</td>\n",
              "      <td>NaN</td>\n",
              "      <td>1323742.0</td>\n",
              "    </tr>\n",
              "    <tr>\n",
              "      <th>2</th>\n",
              "      <td>ALASKA CHALLENGER CENTER FOR SPACE SCIENCE TEC...</td>\n",
              "      <td>SCIENCE &amp; TECHNOLOGY MUSEUM OR PLANETARIUM</td>\n",
              "      <td>KENAI</td>\n",
              "      <td>AK</td>\n",
              "      <td>NaN</td>\n",
              "      <td>NaN</td>\n",
              "      <td>729080.0</td>\n",
              "    </tr>\n",
              "    <tr>\n",
              "      <th>3</th>\n",
              "      <td>ALASKA EDUCATORS HISTORICAL SOCIETY</td>\n",
              "      <td>HISTORIC PRESERVATION</td>\n",
              "      <td>KENAI</td>\n",
              "      <td>AK</td>\n",
              "      <td>NaN</td>\n",
              "      <td>NaN</td>\n",
              "      <td>0.0</td>\n",
              "    </tr>\n",
              "    <tr>\n",
              "      <th>4</th>\n",
              "      <td>ALASKA HERITAGE MUSEUM</td>\n",
              "      <td>HISTORY MUSEUM</td>\n",
              "      <td>ANCHORAGE</td>\n",
              "      <td>AK</td>\n",
              "      <td>NaN</td>\n",
              "      <td>NaN</td>\n",
              "      <td>550236.0</td>\n",
              "    </tr>\n",
              "  </tbody>\n",
              "</table>\n",
              "</div>"
            ],
            "text/plain": [
              "                                         Museum Name  ...    Revenue\n",
              "0                    ALASKA AVIATION HERITAGE MUSEUM  ...   550236.0\n",
              "1                            ALASKA BOTANICAL GARDEN  ...  1323742.0\n",
              "2  ALASKA CHALLENGER CENTER FOR SPACE SCIENCE TEC...  ...   729080.0\n",
              "3                ALASKA EDUCATORS HISTORICAL SOCIETY  ...        0.0\n",
              "4                             ALASKA HERITAGE MUSEUM  ...   550236.0\n",
              "\n",
              "[5 rows x 7 columns]"
            ]
          },
          "metadata": {},
          "execution_count": 20
        }
      ]
    },
    {
      "cell_type": "code",
      "metadata": {
        "colab": {
          "base_uri": "https://localhost:8080/"
        },
        "id": "OCzFak_v4p8s",
        "outputId": "649e0f79-5225-4660-b14b-ed899374f88f"
      },
      "source": [
        "#Verificando o tipo dos dados\n",
        "df.dtypes"
      ],
      "execution_count": 21,
      "outputs": [
        {
          "output_type": "execute_result",
          "data": {
            "text/plain": [
              "Museum Name                         object\n",
              "Museum Type                         object\n",
              "City (Administrative Location)      object\n",
              "State (Administrative Location)     object\n",
              "City (Physical Location)            object\n",
              "State (Physical Location)           object\n",
              "Revenue                            float64\n",
              "dtype: object"
            ]
          },
          "metadata": {},
          "execution_count": 21
        }
      ]
    },
    {
      "cell_type": "code",
      "metadata": {
        "colab": {
          "base_uri": "https://localhost:8080/"
        },
        "id": "dhMPVMdezmE3",
        "outputId": "aa011111-0ee6-4fcf-b4b8-b08100797635"
      },
      "source": [
        "#Qual foi a receita total?\n",
        "df['Revenue'].sum()"
      ],
      "execution_count": 22,
      "outputs": [
        {
          "output_type": "execute_result",
          "data": {
            "text/plain": [
              "467556088899.0"
            ]
          },
          "metadata": {},
          "execution_count": 22
        }
      ]
    },
    {
      "cell_type": "code",
      "metadata": {
        "colab": {
          "base_uri": "https://localhost:8080/"
        },
        "id": "cl4byUXG0GVr",
        "outputId": "cbf94442-7d73-4ad3-9aa6-817b43b4431e"
      },
      "source": [
        "df.isna().sum()"
      ],
      "execution_count": 23,
      "outputs": [
        {
          "output_type": "execute_result",
          "data": {
            "text/plain": [
              "Museum Name                            0\n",
              "Museum Type                            0\n",
              "City (Administrative Location)         0\n",
              "State (Administrative Location)        0\n",
              "City (Physical Location)           23849\n",
              "State (Physical Location)          23849\n",
              "Revenue                            10782\n",
              "dtype: int64"
            ]
          },
          "metadata": {},
          "execution_count": 23
        }
      ]
    },
    {
      "cell_type": "code",
      "metadata": {
        "id": "vEUe0LMb0O-Z"
      },
      "source": [
        "#Criando novas colunas para armazenar a cidade e o estado\n",
        "df['City'] = df['City (Physical Location)']\n",
        "df['State'] = df['State (Physical Location)']"
      ],
      "execution_count": 24,
      "outputs": []
    },
    {
      "cell_type": "code",
      "metadata": {
        "id": "aseg5pYM0jmJ"
      },
      "source": [
        "#Nos museus onde não está informada a localização física, considerar a localização administrativa\n",
        "df['City'].fillna(df['City (Administrative Location)'], inplace=True)\n",
        "df['State'].fillna(df['State (Administrative Location)'], inplace=True)"
      ],
      "execution_count": 25,
      "outputs": []
    },
    {
      "cell_type": "code",
      "metadata": {
        "colab": {
          "base_uri": "https://localhost:8080/"
        },
        "id": "Gv9nKVd71Cvn",
        "outputId": "f8ffb0b6-989e-43cf-8f1c-e6770155a019"
      },
      "source": [
        "df.isna().sum()"
      ],
      "execution_count": 26,
      "outputs": [
        {
          "output_type": "execute_result",
          "data": {
            "text/plain": [
              "Museum Name                            0\n",
              "Museum Type                            0\n",
              "City (Administrative Location)         0\n",
              "State (Administrative Location)        0\n",
              "City (Physical Location)           23849\n",
              "State (Physical Location)          23849\n",
              "Revenue                            10782\n",
              "City                                   0\n",
              "State                                  0\n",
              "dtype: int64"
            ]
          },
          "metadata": {},
          "execution_count": 26
        }
      ]
    },
    {
      "cell_type": "code",
      "metadata": {
        "colab": {
          "base_uri": "https://localhost:8080/",
          "height": 81
        },
        "id": "tM18YZZj1EkD",
        "outputId": "463928c2-d147-4fc4-c436-b23820b93f7f"
      },
      "source": [
        "#Removendo as colunas antigas de localização\n",
        "df.drop(['City (Administrative Location)',\n",
        "         'State (Administrative Location)',\n",
        "         'City (Physical Location)',\n",
        "         'State (Physical Location)'], axis=1, inplace=True)\n",
        "df.head(1)"
      ],
      "execution_count": 30,
      "outputs": [
        {
          "output_type": "execute_result",
          "data": {
            "text/html": [
              "<div>\n",
              "<style scoped>\n",
              "    .dataframe tbody tr th:only-of-type {\n",
              "        vertical-align: middle;\n",
              "    }\n",
              "\n",
              "    .dataframe tbody tr th {\n",
              "        vertical-align: top;\n",
              "    }\n",
              "\n",
              "    .dataframe thead th {\n",
              "        text-align: right;\n",
              "    }\n",
              "</style>\n",
              "<table border=\"1\" class=\"dataframe\">\n",
              "  <thead>\n",
              "    <tr style=\"text-align: right;\">\n",
              "      <th></th>\n",
              "      <th>Museum Name</th>\n",
              "      <th>Museum Type</th>\n",
              "      <th>Revenue</th>\n",
              "      <th>City</th>\n",
              "      <th>State</th>\n",
              "    </tr>\n",
              "  </thead>\n",
              "  <tbody>\n",
              "    <tr>\n",
              "      <th>0</th>\n",
              "      <td>ALASKA AVIATION HERITAGE MUSEUM</td>\n",
              "      <td>HISTORY MUSEUM</td>\n",
              "      <td>550236.0</td>\n",
              "      <td>ANCHORAGE</td>\n",
              "      <td>AK</td>\n",
              "    </tr>\n",
              "  </tbody>\n",
              "</table>\n",
              "</div>"
            ],
            "text/plain": [
              "                       Museum Name     Museum Type   Revenue       City State\n",
              "0  ALASKA AVIATION HERITAGE MUSEUM  HISTORY MUSEUM  550236.0  ANCHORAGE    AK"
            ]
          },
          "metadata": {},
          "execution_count": 30
        }
      ]
    },
    {
      "cell_type": "code",
      "metadata": {
        "colab": {
          "base_uri": "https://localhost:8080/"
        },
        "id": "VILPuEbu1tNm",
        "outputId": "ec78aec4-85b0-4b77-ecf0-c6702175c1f4"
      },
      "source": [
        "#Quantos museus/parques existem por estado?\n",
        "df['State'].value_counts()"
      ],
      "execution_count": 36,
      "outputs": [
        {
          "output_type": "execute_result",
          "data": {
            "text/plain": [
              "CA    2676\n",
              "NY    2246\n",
              "TX    1888\n",
              "PA    1663\n",
              "OH    1368\n",
              "IL    1308\n",
              "FL    1152\n",
              "MI    1040\n",
              "MA    1031\n",
              "VA     956\n",
              "WI     886\n",
              "NC     782\n",
              "NJ     757\n",
              "MO     739\n",
              "WA     725\n",
              "IN     689\n",
              "MN     681\n",
              "GA     665\n",
              "IA     661\n",
              "CO     648\n",
              "MD     620\n",
              "TN     560\n",
              "OR     551\n",
              "CT     543\n",
              "KS     538\n",
              "ME     522\n",
              "OK     487\n",
              "KY     468\n",
              "AL     462\n",
              "AZ     451\n",
              "LA     396\n",
              "SC     389\n",
              "NH     364\n",
              "NE     348\n",
              "NM     321\n",
              "AR     318\n",
              "VT     292\n",
              "MT     270\n",
              "ND     268\n",
              "WV     259\n",
              "MS     250\n",
              "SD     234\n",
              "ID     215\n",
              "DC     197\n",
              "WY     192\n",
              "RI     183\n",
              "HI     176\n",
              "NV     172\n",
              "UT     170\n",
              "AK     162\n",
              "DE     133\n",
              "Name: State, dtype: int64"
            ]
          },
          "metadata": {},
          "execution_count": 36
        }
      ]
    },
    {
      "cell_type": "code",
      "metadata": {
        "colab": {
          "base_uri": "https://localhost:8080/",
          "height": 265
        },
        "id": "JSZCGTqX18-G",
        "outputId": "ecf9d3d7-3b55-4095-de1b-bc5f1f7eaac2"
      },
      "source": [
        "#Gráfico com os 5 estados que possuem mais museus/parques\n",
        "grafico = df['State'].value_counts().nlargest(5).plot.barh();\n",
        "grafico.invert_yaxis()"
      ],
      "execution_count": 43,
      "outputs": [
        {
          "output_type": "display_data",
          "data": {
            "image/png": "[encoded data removed]",
            "text/plain": [
              "<Figure size 432x288 with 1 Axes>"
            ]
          },
          "metadata": {
            "needs_background": "light"
          }
        }
      ]
    },
    {
      "cell_type": "code",
      "metadata": {
        "colab": {
          "base_uri": "https://localhost:8080/"
        },
        "id": "st_pnmRp5C5T",
        "outputId": "f382d814-57af-4133-8a8c-615a04d257df"
      },
      "source": [
        "#Quais as 10 cidades com mais museus/parques?\n",
        "df.groupby('City')['State'].value_counts().nlargest(10)"
      ],
      "execution_count": 57,
      "outputs": [
        {
          "output_type": "execute_result",
          "data": {
            "text/plain": [
              "City           State\n",
              "NEW YORK       NY       304\n",
              "CHICAGO        IL       194\n",
              "WASHINGTON     DC       194\n",
              "PHILADELPHIA   PA       183\n",
              "LOS ANGELES    CA       165\n",
              "HOUSTON        TX       130\n",
              "BALTIMORE      MD       121\n",
              "SAN FRANCISCO  CA       119\n",
              "SEATTLE        WA       105\n",
              "AUSTIN         TX        98\n",
              "Name: State, dtype: int64"
            ]
          },
          "metadata": {},
          "execution_count": 57
        }
      ]
    },
    {
      "cell_type": "code",
      "metadata": {
        "colab": {
          "base_uri": "https://localhost:8080/",
          "height": 265
        },
        "id": "IRdGtcPS3bp_",
        "outputId": "d7b49fc2-4d1a-4e6c-86c1-bf5c0d04d326"
      },
      "source": [
        "#Gráfico com as 10 cidades que possuem mais museus/parques\n",
        "grafico = df.groupby('City')['State'].value_counts().nlargest(10).plot.barh();\n",
        "grafico.invert_yaxis()"
      ],
      "execution_count": 58,
      "outputs": [
        {
          "output_type": "display_data",
          "data": {
            "image/png": "[encoded data removed]",
            "text/plain": [
              "<Figure size 432x288 with 1 Axes>"
            ]
          },
          "metadata": {
            "needs_background": "light"
          }
        }
      ]
    },
    {
      "cell_type": "code",
      "metadata": {
        "id": "5ynQaefn3jZw"
      },
      "source": [
        "#Qual a receita média?\n",
        "#Primeiro eliminar os valores nulos\n",
        "df['Revenue'].fillna(0, inplace=True)"
      ],
      "execution_count": 64,
      "outputs": []
    },
    {
      "cell_type": "code",
      "metadata": {
        "colab": {
          "base_uri": "https://localhost:8080/"
        },
        "id": "_c7btA3c50kn",
        "outputId": "2ecf9832-3c2c-4a72-ce3f-524d84bf25f8"
      },
      "source": [
        "#Verificar que não existem mais valores nulos na coluna Revenue\n",
        "df.isna().sum()"
      ],
      "execution_count": 66,
      "outputs": [
        {
          "output_type": "execute_result",
          "data": {
            "text/plain": [
              "Museum Name    0\n",
              "Museum Type    0\n",
              "Revenue        0\n",
              "City           0\n",
              "State          0\n",
              "dtype: int64"
            ]
          },
          "metadata": {},
          "execution_count": 66
        }
      ]
    },
    {
      "cell_type": "code",
      "metadata": {
        "id": "ym-evWoN54Mj"
      },
      "source": [
        "#Alterar formatação dos valores\n",
        "pd.options.display.float_format = '${:,.2f}'.format"
      ],
      "execution_count": 70,
      "outputs": []
    },
    {
      "cell_type": "code",
      "metadata": {
        "colab": {
          "base_uri": "https://localhost:8080/"
        },
        "id": "yWfqNqzr5_pf",
        "outputId": "2cd59587-6056-4be2-efd4-8a22eac3cd4a"
      },
      "source": [
        "#Considerar a média apenas dos registros que possuem o valor informado, ignorando os valores zerados\n",
        "df.query('Revenue > 0')['Revenue'].mean()"
      ],
      "execution_count": 73,
      "outputs": [
        {
          "output_type": "execute_result",
          "data": {
            "text/plain": [
              "40774784.572076395"
            ]
          },
          "metadata": {},
          "execution_count": 73
        }
      ]
    },
    {
      "cell_type": "code",
      "metadata": {
        "colab": {
          "base_uri": "https://localhost:8080/"
        },
        "id": "8kWq5gb166C5",
        "outputId": "abac6ee4-1103-4efb-a8b1-ccc4854db0e5"
      },
      "source": [
        "#Quais os tipos de museus/parques?\n",
        "df['Museum Type'].value_counts()"
      ],
      "execution_count": 76,
      "outputs": [
        {
          "output_type": "execute_result",
          "data": {
            "text/plain": [
              "HISTORIC PRESERVATION                            14861\n",
              "GENERAL MUSEUM                                    8699\n",
              "ART MUSEUM                                        3241\n",
              "HISTORY MUSEUM                                    2284\n",
              "ARBORETUM, BOTANICAL GARDEN, OR NATURE CENTER     1484\n",
              "SCIENCE & TECHNOLOGY MUSEUM OR PLANETARIUM        1081\n",
              "ZOO, AQUARIUM, OR WILDLIFE CONSERVATION            564\n",
              "CHILDREN'S MUSEUM                                  512\n",
              "NATURAL HISTORY MUSEUM                             346\n",
              "Name: Museum Type, dtype: int64"
            ]
          },
          "metadata": {},
          "execution_count": 76
        }
      ]
    },
    {
      "cell_type": "code",
      "metadata": {
        "colab": {
          "base_uri": "https://localhost:8080/"
        },
        "id": "_VepDCr_7T6q",
        "outputId": "47ba32aa-89d0-4e9e-dfe5-2814213eed20"
      },
      "source": [
        "#Qual a média de receita por estado?\n",
        "df.query('Revenue > 0').groupby('State')['Revenue'].mean()"
      ],
      "execution_count": 79,
      "outputs": [
        {
          "output_type": "execute_result",
          "data": {
            "text/plain": [
              "State\n",
              "AK     $1,612,239.32\n",
              "AL     $4,130,390.61\n",
              "AR     $8,376,558.14\n",
              "AZ    $47,482,627.24\n",
              "CA    $48,309,819.67\n",
              "CO    $18,682,406.11\n",
              "CT   $125,429,565.57\n",
              "DC   $271,077,502.03\n",
              "DE    $77,477,394.12\n",
              "FL    $21,703,904.36\n",
              "GA    $67,755,640.46\n",
              "HI     $5,363,686.94\n",
              "IA    $14,630,537.01\n",
              "ID     $9,019,664.78\n",
              "IL    $51,582,422.15\n",
              "IN    $18,627,442.19\n",
              "KS     $1,942,054.58\n",
              "KY    $15,298,490.16\n",
              "LA    $35,971,632.22\n",
              "MA   $252,666,915.30\n",
              "MD   $105,213,943.45\n",
              "ME    $11,223,668.91\n",
              "MI     $4,997,538.91\n",
              "MN    $13,580,538.61\n",
              "MO    $30,901,922.83\n",
              "MS     $5,857,039.80\n",
              "MT     $1,742,701.46\n",
              "NC    $15,547,642.44\n",
              "ND       $252,450.89\n",
              "NE    $11,570,798.65\n",
              "NH    $28,918,647.13\n",
              "NJ    $13,350,463.77\n",
              "NM     $1,368,558.67\n",
              "NV     $1,713,660.12\n",
              "NY    $45,570,295.06\n",
              "OH     $9,752,124.05\n",
              "OK     $4,821,915.53\n",
              "OR     $6,573,205.45\n",
              "PA    $35,260,822.73\n",
              "RI    $63,077,807.02\n",
              "SC    $11,804,028.91\n",
              "SD     $8,056,685.79\n",
              "TN    $72,872,073.87\n",
              "TX    $22,057,155.01\n",
              "UT     $4,458,398.91\n",
              "VA    $10,202,298.25\n",
              "VT    $10,316,670.91\n",
              "WA     $9,977,385.29\n",
              "WI     $7,537,359.94\n",
              "WV     $3,841,797.57\n",
              "WY     $1,018,475.27\n",
              "Name: Revenue, dtype: float64"
            ]
          },
          "metadata": {},
          "execution_count": 79
        }
      ]
    }
  ]
}